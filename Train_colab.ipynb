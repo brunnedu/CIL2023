{
  "cells": [
    {
      "cell_type": "markdown",
      "metadata": {
        "id": "e-f1gMktM_ai"
      },
      "source": [
        "Put repo on google drive beforehand and shortcut dataset into your drive"
      ]
    },
    {
      "cell_type": "code",
      "execution_count": 1,
      "metadata": {
        "colab": {
          "base_uri": "https://localhost:8080/"
        },
        "id": "M2llRt5HowMV",
        "outputId": "f5affdef-e6ac-4739-df09-44a2c05c329d"
      },
      "outputs": [
        {
          "output_type": "stream",
          "name": "stdout",
          "text": [
            "Mounted at /content/gdrive\n"
          ]
        }
      ],
      "source": [
        "from google.colab import drive\n",
        "drive.mount('/content/gdrive')\n"
      ]
    },
    {
      "cell_type": "markdown",
      "source": [
        "Put additional dataset as zip in \"Meine Ablage\" on google drive and set path in config.py to \"/content/gdrive/MyDrive/unzipped_folder_name\"\n"
      ],
      "metadata": {
        "id": "kwQdHmmhJf9C"
      }
    },
    {
      "cell_type": "code",
      "source": [
        "import zipfile\n",
        "with zipfile.ZipFile(\"/content/gdrive/MyDrive/los_angeles_boston_1000.zip\", 'r') as zip_ref:\n",
        "    zip_ref.extractall(\"/content/gdrive/MyDrive\")"
      ],
      "metadata": {
        "id": "6hVY_3NlJe6d"
      },
      "execution_count": 2,
      "outputs": []
    },
    {
      "cell_type": "code",
      "execution_count": 3,
      "metadata": {
        "colab": {
          "base_uri": "https://localhost:8080/"
        },
        "id": "ZfY9PtcVsxvG",
        "outputId": "79c8d30a-73a5-459e-b7a6-8b3662647532"
      },
      "outputs": [
        {
          "output_type": "stream",
          "name": "stdout",
          "text": [
            "/content/gdrive/MyDrive/CIL2023\n"
          ]
        }
      ],
      "source": [
        "%cd gdrive/MyDrive/CIL2023"
      ]
    },
    {
      "cell_type": "code",
      "execution_count": 4,
      "metadata": {
        "colab": {
          "base_uri": "https://localhost:8080/"
        },
        "id": "pBhVWs6pz1RB",
        "outputId": "c6fb77bf-b779-41c3-cbf0-c26c974b7891"
      },
      "outputs": [
        {
          "output_type": "stream",
          "name": "stdout",
          "text": [
            "Looking in indexes: https://pypi.org/simple, https://us-python.pkg.dev/colab-wheels/public/simple/\n",
            "Requirement already satisfied: numpy in /usr/local/lib/python3.9/dist-packages (from -r requirements.txt (line 1)) (1.22.4)\n",
            "Requirement already satisfied: torch in /usr/local/lib/python3.9/dist-packages (from -r requirements.txt (line 2)) (1.13.1+cu116)\n",
            "Requirement already satisfied: torchvision in /usr/local/lib/python3.9/dist-packages (from -r requirements.txt (line 3)) (0.14.1+cu116)\n",
            "Requirement already satisfied: Pillow in /usr/local/lib/python3.9/dist-packages (from -r requirements.txt (line 4)) (8.4.0)\n",
            "Requirement already satisfied: albumentations in /usr/local/lib/python3.9/dist-packages (from -r requirements.txt (line 5)) (1.2.1)\n",
            "Requirement already satisfied: click in /usr/local/lib/python3.9/dist-packages (from -r requirements.txt (line 7)) (8.1.3)\n",
            "Requirement already satisfied: matplotlib in /usr/local/lib/python3.9/dist-packages (from -r requirements.txt (line 8)) (3.7.1)\n",
            "Requirement already satisfied: opencv-python in /usr/local/lib/python3.9/dist-packages (from -r requirements.txt (line 9)) (4.7.0.72)\n",
            "Requirement already satisfied: absl-py in /usr/local/lib/python3.9/dist-packages (from -r requirements.txt (line 11)) (1.4.0)\n",
            "Requirement already satisfied: typing-extensions in /usr/local/lib/python3.9/dist-packages (from torch->-r requirements.txt (line 2)) (4.5.0)\n",
            "Requirement already satisfied: requests in /usr/local/lib/python3.9/dist-packages (from torchvision->-r requirements.txt (line 3)) (2.27.1)\n",
            "Requirement already satisfied: scikit-image>=0.16.1 in /usr/local/lib/python3.9/dist-packages (from albumentations->-r requirements.txt (line 5)) (0.19.3)\n",
            "Requirement already satisfied: opencv-python-headless>=4.1.1 in /usr/local/lib/python3.9/dist-packages (from albumentations->-r requirements.txt (line 5)) (4.7.0.72)\n",
            "Requirement already satisfied: PyYAML in /usr/local/lib/python3.9/dist-packages (from albumentations->-r requirements.txt (line 5)) (6.0)\n",
            "Requirement already satisfied: scipy in /usr/local/lib/python3.9/dist-packages (from albumentations->-r requirements.txt (line 5)) (1.10.1)\n",
            "Requirement already satisfied: qudida>=0.0.4 in /usr/local/lib/python3.9/dist-packages (from albumentations->-r requirements.txt (line 5)) (0.0.4)\n",
            "Requirement already satisfied: fonttools>=4.22.0 in /usr/local/lib/python3.9/dist-packages (from matplotlib->-r requirements.txt (line 8)) (4.39.3)\n",
            "Requirement already satisfied: python-dateutil>=2.7 in /usr/local/lib/python3.9/dist-packages (from matplotlib->-r requirements.txt (line 8)) (2.8.2)\n",
            "Requirement already satisfied: pyparsing>=2.3.1 in /usr/local/lib/python3.9/dist-packages (from matplotlib->-r requirements.txt (line 8)) (3.0.9)\n",
            "Requirement already satisfied: contourpy>=1.0.1 in /usr/local/lib/python3.9/dist-packages (from matplotlib->-r requirements.txt (line 8)) (1.0.7)\n",
            "Requirement already satisfied: importlib-resources>=3.2.0 in /usr/local/lib/python3.9/dist-packages (from matplotlib->-r requirements.txt (line 8)) (5.12.0)\n",
            "Requirement already satisfied: packaging>=20.0 in /usr/local/lib/python3.9/dist-packages (from matplotlib->-r requirements.txt (line 8)) (23.0)\n",
            "Requirement already satisfied: kiwisolver>=1.0.1 in /usr/local/lib/python3.9/dist-packages (from matplotlib->-r requirements.txt (line 8)) (1.4.4)\n",
            "Requirement already satisfied: cycler>=0.10 in /usr/local/lib/python3.9/dist-packages (from matplotlib->-r requirements.txt (line 8)) (0.11.0)\n",
            "Requirement already satisfied: zipp>=3.1.0 in /usr/local/lib/python3.9/dist-packages (from importlib-resources>=3.2.0->matplotlib->-r requirements.txt (line 8)) (3.15.0)\n",
            "Requirement already satisfied: six>=1.5 in /usr/local/lib/python3.9/dist-packages (from python-dateutil>=2.7->matplotlib->-r requirements.txt (line 8)) (1.16.0)\n",
            "Requirement already satisfied: scikit-learn>=0.19.1 in /usr/local/lib/python3.9/dist-packages (from qudida>=0.0.4->albumentations->-r requirements.txt (line 5)) (1.2.2)\n",
            "Requirement already satisfied: imageio>=2.4.1 in /usr/local/lib/python3.9/dist-packages (from scikit-image>=0.16.1->albumentations->-r requirements.txt (line 5)) (2.25.1)\n",
            "Requirement already satisfied: PyWavelets>=1.1.1 in /usr/local/lib/python3.9/dist-packages (from scikit-image>=0.16.1->albumentations->-r requirements.txt (line 5)) (1.4.1)\n",
            "Requirement already satisfied: tifffile>=2019.7.26 in /usr/local/lib/python3.9/dist-packages (from scikit-image>=0.16.1->albumentations->-r requirements.txt (line 5)) (2023.3.21)\n",
            "Requirement already satisfied: networkx>=2.2 in /usr/local/lib/python3.9/dist-packages (from scikit-image>=0.16.1->albumentations->-r requirements.txt (line 5)) (3.0)\n",
            "Requirement already satisfied: certifi>=2017.4.17 in /usr/local/lib/python3.9/dist-packages (from requests->torchvision->-r requirements.txt (line 3)) (2022.12.7)\n",
            "Requirement already satisfied: idna<4,>=2.5 in /usr/local/lib/python3.9/dist-packages (from requests->torchvision->-r requirements.txt (line 3)) (3.4)\n",
            "Requirement already satisfied: charset-normalizer~=2.0.0 in /usr/local/lib/python3.9/dist-packages (from requests->torchvision->-r requirements.txt (line 3)) (2.0.12)\n",
            "Requirement already satisfied: urllib3<1.27,>=1.21.1 in /usr/local/lib/python3.9/dist-packages (from requests->torchvision->-r requirements.txt (line 3)) (1.26.15)\n",
            "Requirement already satisfied: threadpoolctl>=2.0.0 in /usr/local/lib/python3.9/dist-packages (from scikit-learn>=0.19.1->qudida>=0.0.4->albumentations->-r requirements.txt (line 5)) (3.1.0)\n",
            "Requirement already satisfied: joblib>=1.1.1 in /usr/local/lib/python3.9/dist-packages (from scikit-learn>=0.19.1->qudida>=0.0.4->albumentations->-r requirements.txt (line 5)) (1.1.1)\n"
          ]
        }
      ],
      "source": [
        "!pip install -r requirements.txt"
      ]
    },
    {
      "cell_type": "code",
      "execution_count": 5,
      "metadata": {
        "colab": {
          "base_uri": "https://localhost:8080/"
        },
        "id": "4Kym90iP5CWy",
        "outputId": "ff5532fc-1dc3-4c8e-8212-88b67fe4eaae"
      },
      "outputs": [
        {
          "output_type": "stream",
          "name": "stdout",
          "text": [
            "Full Experiment ID: train_test_2023-03-31_10-20-51\n",
            "Downloading: \"https://download.pytorch.org/models/resnet18-f37072fd.pth\" to /root/.cache/torch/hub/checkpoints/resnet18-f37072fd.pth\n",
            "100% 44.7M/44.7M [00:00<00:00, 215MB/s]\n",
            "/usr/local/lib/python3.9/dist-packages/torch/nn/modules/lazy.py:180: UserWarning: Lazy modules are a new feature under heavy development so changes to the API or functionality can happen at any moment.\n",
            "  warnings.warn('Lazy modules are a new feature under heavy development '\n",
            "/usr/local/lib/python3.9/dist-packages/torch/utils/data/dataloader.py:554: UserWarning: This DataLoader will create 4 worker processes in total. Our suggested max number of worker in current system is 2, which is smaller than what this DataLoader is going to create. Please be aware that excessive worker creation might get DataLoader running slow or even freeze, lower the worker number to avoid potential slowness/freeze if necessary.\n",
            "  warnings.warn(_create_warning_msg(\n",
            "Epoch: [0][0/28]\tTime 8.837s (8.837s)\tSpeed 7.2 samples/s\tLoss 0.23945 (0.23945)\n",
            "Epoch: [0][10/28]\tTime 0.419s (1.199s)\tSpeed 152.7 samples/s\tLoss 0.11970 (0.15784)\n",
            "Epoch: [0][20/28]\tTime 0.489s (0.839s)\tSpeed 130.9 samples/s\tLoss 0.11588 (0.13930)\n",
            "Epoch: [0][28/28]\tTime 0.066s (0.714s)\tSpeed 120.6 samples/s\tLoss 0.11249 (0.13243)\n",
            "/usr/local/lib/python3.9/dist-packages/torch/nn/functional.py:1967: UserWarning: nn.functional.sigmoid is deprecated. Use torch.sigmoid instead.\n",
            "  warnings.warn(\"nn.functional.sigmoid is deprecated. Use torch.sigmoid instead.\")\n",
            "Test: [0/3]\tTime 0.203 (0.203)\tLoss 0.1251 (0.1251)\tAccuracy 0.4058 (0.4058)\n",
            "Test: [3/3]\tTime 0.022 (0.132)\tLoss 0.1127 (0.1203)\tAccuracy 0.4015 (0.4117)\n",
            "Saving best model to ./out/train_test_2023-03-31_10-20-51/best_model.pth.tar\n",
            "Saving checkpoint to ./out/train_test_2023-03-31_10-20-51/checkpoint.pth.tar\n",
            "Epoch: [1][0/28]\tTime 0.472s (0.472s)\tSpeed 135.7 samples/s\tLoss 0.10867 (0.10867)\n",
            "Epoch: [1][10/28]\tTime 0.423s (0.431s)\tSpeed 151.3 samples/s\tLoss 0.10440 (0.10650)\n",
            "Epoch: [1][20/28]\tTime 0.432s (0.434s)\tSpeed 148.1 samples/s\tLoss 0.10022 (0.10395)\n",
            "Epoch: [1][28/28]\tTime 0.065s (0.419s)\tSpeed 123.8 samples/s\tLoss 0.10042 (0.10248)\n",
            "Traceback (most recent call last):\n",
            "  File \"/usr/local/lib/python3.9/dist-packages/click/core.py\", line 1055, in main\n",
            "    rv = self.invoke(ctx)\n",
            "  File \"/usr/local/lib/python3.9/dist-packages/click/core.py\", line 1657, in invoke\n",
            "    return _process_result(sub_ctx.command.invoke(sub_ctx))\n",
            "  File \"/usr/local/lib/python3.9/dist-packages/click/core.py\", line 1404, in invoke\n",
            "    return ctx.invoke(self.callback, **ctx.params)\n",
            "  File \"/usr/local/lib/python3.9/dist-packages/click/core.py\", line 760, in invoke\n",
            "    return __callback(*args, **kwargs)\n",
            "  File \"/content/gdrive/MyDrive/CIL2023/main.py\", line 48, in train\n",
            "    train_model(\n",
            "  File \"/content/gdrive/MyDrive/CIL2023/src/train.py\", line 76, in train_model\n",
            "    acc = validate(experiment_id, model, val_loader, device, criterion, accuracy_fn, epoch, logger, log_frequency)\n",
            "  File \"/content/gdrive/MyDrive/CIL2023/src/train.py\", line 178, in validate\n",
            "    for i, (inputs, labels) in enumerate(val_loader):\n",
            "  File \"/usr/local/lib/python3.9/dist-packages/torch/utils/data/dataloader.py\", line 628, in __next__\n",
            "    data = self._next_data()\n",
            "  File \"/usr/local/lib/python3.9/dist-packages/torch/utils/data/dataloader.py\", line 1316, in _next_data\n",
            "    idx, data = self._get_data()\n",
            "  File \"/usr/local/lib/python3.9/dist-packages/torch/utils/data/dataloader.py\", line 1282, in _get_data\n",
            "    success, data = self._try_get_data()\n",
            "  File \"/usr/local/lib/python3.9/dist-packages/torch/utils/data/dataloader.py\", line 1120, in _try_get_data\n",
            "    data = self._data_queue.get(timeout=timeout)\n",
            "  File \"/usr/lib/python3.9/multiprocessing/queues.py\", line 113, in get\n",
            "    if not self._poll(timeout):\n",
            "  File \"/usr/lib/python3.9/multiprocessing/connection.py\", line 257, in poll\n",
            "    return self._poll(timeout)\n",
            "  File \"/usr/lib/python3.9/multiprocessing/connection.py\", line 424, in _poll\n",
            "    r = wait([self], timeout)\n",
            "  File \"/usr/lib/python3.9/multiprocessing/connection.py\", line 931, in wait\n",
            "    ready = selector.select(timeout)\n",
            "  File \"/usr/lib/python3.9/selectors.py\", line 416, in select\n",
            "    fd_event_list = self._selector.poll(timeout)\n",
            "KeyboardInterrupt\n",
            "\n",
            "During handling of the above exception, another exception occurred:\n",
            "\n",
            "Traceback (most recent call last):\n",
            "  File \"/content/gdrive/MyDrive/CIL2023/main.py\", line 140, in <module>\n",
            "    cli()\n",
            "  File \"/usr/local/lib/python3.9/dist-packages/click/core.py\", line 1130, in __call__\n",
            "    return self.main(*args, **kwargs)\n",
            "  File \"/usr/local/lib/python3.9/dist-packages/click/core.py\", line 1067, in main\n",
            "    echo(file=sys.stderr)\n",
            "  File \"/usr/local/lib/python3.9/dist-packages/click/utils.py\", line 291, in echo\n",
            "    if should_strip_ansi(file, color):\n",
            "  File \"/usr/local/lib/python3.9/dist-packages/click/_compat.py\", line 504, in should_strip_ansi\n",
            "    def should_strip_ansi(\n",
            "KeyboardInterrupt\n",
            "^C\n"
          ]
        }
      ],
      "source": [
        "!python main.py train"
      ]
    },
    {
      "cell_type": "code",
      "execution_count": 5,
      "metadata": {
        "id": "3OkfSDTv69OG"
      },
      "outputs": [],
      "source": []
    }
  ],
  "metadata": {
    "accelerator": "GPU",
    "colab": {
      "provenance": []
    },
    "gpuClass": "standard",
    "kernelspec": {
      "display_name": "Python 3",
      "name": "python3"
    },
    "language_info": {
      "name": "python"
    }
  },
  "nbformat": 4,
  "nbformat_minor": 0
}