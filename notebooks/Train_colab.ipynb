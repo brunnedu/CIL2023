{
 "cells": [
  {
   "cell_type": "markdown",
   "metadata": {
    "id": "e-f1gMktM_ai"
   },
   "source": [
    "Put repo on google drive beforehand and shortcut dataset into your drive"
   ]
  },
  {
   "cell_type": "code",
   "execution_count": null,
   "metadata": {
    "colab": {
     "base_uri": "https://localhost:8080/"
    },
    "id": "M2llRt5HowMV",
    "outputId": "f5affdef-e6ac-4739-df09-44a2c05c329d"
   },
   "outputs": [],
   "source": [
    "from google.colab import drive\n",
    "drive.mount('/content/gdrive')\n"
   ]
  },
  {
   "cell_type": "markdown",
   "metadata": {
    "id": "kwQdHmmhJf9C"
   },
   "source": [
    "Put additional dataset as zip in \"Meine Ablage\" on google drive and set path in config.py to \"/content/gdrive/MyDrive/unzipped_folder_name\"\n"
   ]
  },
  {
   "cell_type": "code",
   "execution_count": null,
   "metadata": {
    "id": "6hVY_3NlJe6d"
   },
   "outputs": [],
   "source": [
    "import zipfile\n",
    "with zipfile.ZipFile(\"/content/gdrive/MyDrive/los_angeles_boston_1000.zip\", 'r') as zip_ref:\n",
    "    zip_ref.extractall(\"/content/gdrive/MyDrive\")"
   ]
  },
  {
   "cell_type": "code",
   "execution_count": null,
   "metadata": {
    "colab": {
     "base_uri": "https://localhost:8080/"
    },
    "id": "ZfY9PtcVsxvG",
    "outputId": "79c8d30a-73a5-459e-b7a6-8b3662647532"
   },
   "outputs": [],
   "source": [
    "%cd gdrive/MyDrive/CIL2023"
   ]
  },
  {
   "cell_type": "code",
   "execution_count": null,
   "metadata": {
    "colab": {
     "base_uri": "https://localhost:8080/"
    },
    "id": "pBhVWs6pz1RB",
    "outputId": "c6fb77bf-b779-41c3-cbf0-c26c974b7891"
   },
   "outputs": [],
   "source": [
    "!pip install -r requirements.txt"
   ]
  },
  {
   "cell_type": "code",
   "execution_count": null,
   "metadata": {
    "colab": {
     "base_uri": "https://localhost:8080/"
    },
    "id": "4Kym90iP5CWy",
    "outputId": "ff5532fc-1dc3-4c8e-8212-88b67fe4eaae"
   },
   "outputs": [],
   "source": [
    "!python main.py train"
   ]
  },
  {
   "cell_type": "code",
   "execution_count": null,
   "metadata": {
    "id": "3OkfSDTv69OG"
   },
   "outputs": [],
   "source": []
  }
 ],
 "metadata": {
  "accelerator": "GPU",
  "colab": {
   "provenance": []
  },
  "gpuClass": "standard",
  "kernelspec": {
   "display_name": "Python 3 (ipykernel)",
   "language": "python",
   "name": "python3"
  },
  "language_info": {
   "codemirror_mode": {
    "name": "ipython",
    "version": 3
   },
   "file_extension": ".py",
   "mimetype": "text/x-python",
   "name": "python",
   "nbconvert_exporter": "python",
   "pygments_lexer": "ipython3",
   "version": "3.10.9"
  }
 },
 "nbformat": 4,
 "nbformat_minor": 4
}
