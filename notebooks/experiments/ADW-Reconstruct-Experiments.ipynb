{
 "cells": [
  {
   "cell_type": "code",
   "execution_count": null,
   "metadata": {},
   "outputs": [],
   "source": [
    "%cd ../.."
   ]
  },
  {
   "cell_type": "markdown",
   "metadata": {},
   "source": [
    "# Reconstruction\n",
    "Reconstructs a mask from angle, width & distance data"
   ]
  },
  {
   "cell_type": "markdown",
   "metadata": {},
   "source": [
    "#### Config"
   ]
  },
  {
   "cell_type": "code",
   "execution_count": null,
   "metadata": {},
   "outputs": [],
   "source": [
    "# folders should contain mean/ and std/ subfolders\n",
    "angle_folder = \"out/madw_angle/run_training\"\n",
    "dist_folder = \"out/madw_dist/run_training\"\n",
    "width_folder = \"out/madw_width/run_training\""
   ]
  },
  {
   "cell_type": "markdown",
   "metadata": {},
   "source": [
    "#### This must be the same as in ADW-Transform-Individual!"
   ]
  },
  {
   "cell_type": "code",
   "execution_count": null,
   "metadata": {},
   "outputs": [],
   "source": [
    "PADDING = 25\n",
    "SMOOTH_ANGLE = 2.0 # None to disable\n",
    "SMOOTH_WIDTH = 1.0 # None to disable\n",
    "SMOOTH_MASK_ITERATIONS = 3\n",
    "\n",
    "# the image size that the model will be working on (matters for distance prediction!)\n",
    "TARGET_SIZE = (224,224) \n",
    "# leave at (400,400) if doing cropping\n",
    "# use (224,224) if rescaling\n",
    "\n",
    "NORM_ANGLE_MIN, NORM_ANGLE_DELTA = -3.15, 6.3\n",
    "NORM_DISTANCE_MIN, NORM_DISTANCE_DELTA = 0, np.sqrt(2*(TARGET_SIZE[0] + 2*PADDING)**2) + 1\n",
    "NORM_WIDTH_MIN, NORM_WIDTH_DELTA = 0, TARGET_SIZE[0] / 4 # this might cause some overflows if chosen too small"
   ]
  },
  {
   "cell_type": "code",
   "execution_count": null,
   "metadata": {},
   "outputs": [],
   "source": [
    "import numpy as np\n",
    "import scipy.stats as stats\n",
    "import matplotlib.pyplot as plt\n",
    "from tqdm import tqdm"
   ]
  },
  {
   "cell_type": "code",
   "execution_count": null,
   "metadata": {},
   "outputs": [],
   "source": [
    "def nearest_neighbor_interpolation_2D(arr, target_size):\n",
    "    current_size = arr.shape\n",
    "    row_ratio, col_ratio = np.array(target_size)/np.array(current_size)\n",
    "\n",
    "    row_idx = (np.ceil(range(1, 1 + int(current_size[0]*row_ratio))/row_ratio) - 1).astype(int)\n",
    "    col_idx = (np.ceil(range(1, 1 + int(current_size[1]*col_ratio))/col_ratio) - 1).astype(int)\n",
    "\n",
    "    return arr[:,row_idx][col_idx,:]"
   ]
  },
  {
   "cell_type": "markdown",
   "metadata": {},
   "source": [
    "# Voting Phase\n",
    "\n",
    "In this phase, the votes for all widths at each point in space are aggregated"
   ]
  },
  {
   "cell_type": "code",
   "execution_count": null,
   "metadata": {},
   "outputs": [],
   "source": [
    "def cart2pol(x, y, m_alpha):\n",
    "    rho = np.sqrt(x**2 + y**2)\n",
    "    phi = np.arctan2(y, x)\n",
    "    if m_alpha - phi > (2*np.pi + phi) - m_alpha:\n",
    "        phi = 2*np.pi + phi\n",
    "    return(rho, phi)"
   ]
  },
  {
   "cell_type": "code",
   "execution_count": null,
   "metadata": {},
   "outputs": [],
   "source": [
    "res_total_weight_original = res_total_weight\n",
    "res_width_mean_original = res_width_mean\n",
    "res_width_std_original = res_width_std"
   ]
  },
  {
   "cell_type": "code",
   "execution_count": null,
   "metadata": {},
   "outputs": [],
   "source": [
    "original_size = 400"
   ]
  },
  {
   "cell_type": "code",
   "execution_count": null,
   "metadata": {},
   "outputs": [],
   "source": [
    "angle_mean = np.random.rand(original_size, original_size)\n",
    "angle_std = np.random.rand(original_size, original_size)\n",
    "\n",
    "dist_mean = np.random.rand(original_size, original_size)\n",
    "dist_std = np.random.rand(original_size, original_size)\n",
    "\n",
    "width_mean = np.random.rand(original_size, original_size)\n",
    "width_std = np.random.rand(original_size, original_size)"
   ]
  },
  {
   "cell_type": "code",
   "execution_count": null,
   "metadata": {},
   "outputs": [],
   "source": [
    "mask,angle_mean,dist_mean,width_mean = np.load('../../data/training/transformed/mask_angle_distance_width/satimage_0.npy')\n",
    "angle_std, dist_std, width_std = 0.1*np.ones((original_size,original_size)), 3.0 * np.ones((original_size,original_size)), 5.0 * np.ones((original_size,original_size))"
   ]
  },
  {
   "cell_type": "code",
   "execution_count": null,
   "metadata": {},
   "outputs": [],
   "source": [
    "# subsample\n",
    "resize_factor = 0.25 # by how much will the image resolution be reduced\n",
    "size = round(resize_factor * original_size)\n",
    "\n",
    "res_total_weight = np.zeros((size,size))\n",
    "res_width_mean = np.zeros((size,size))\n",
    "res_width_std = np.ones((size,size))\n",
    "\n",
    "angle_mean = nearest_neighbor_interpolation_2D(angle_mean, (size,size)) # invariant to scaling\n",
    "angle_std = nearest_neighbor_interpolation_2D(angle_std, (size,size))\n",
    "dist_mean = nearest_neighbor_interpolation_2D(dist_mean, (size,size)) * resize_factor # k * X ~ N(k * m, (k*s)^2)\n",
    "dist_std = nearest_neighbor_interpolation_2D(dist_std, (size,size)) * resize_factor\n",
    "width_mean = nearest_neighbor_interpolation_2D(width_mean, (size,size)) # keep original scale\n",
    "width_std = nearest_neighbor_interpolation_2D(width_std, (size,size))"
   ]
  },
  {
   "cell_type": "code",
   "execution_count": null,
   "metadata": {},
   "outputs": [],
   "source": [
    "indices_ext = np.array([range(-size+1, size)]).T @ np.ones((1,2*size-1))\n",
    "dists = np.sqrt(np.sum(np.stack([indices_ext**2, indices_ext.T**2], axis=-1), axis=-1))\n",
    "\n",
    "indices_2d = np.stack([indices_ext, indices_ext.T], axis=-1)\n",
    "angles = np.arctan2(indices_2d[:,:,0], indices_2d[:,:,1])\n",
    "\n",
    "res_total_weight = np.zeros((size,size))\n",
    "res_width_mean = np.zeros((size,size))\n",
    "res_width_var = np.ones((size,size))\n",
    "\n",
    "joint_norm_std = 1 / (2 * np.pi * angle_std * dist_std)\n",
    "for y in tqdm(range(size)):\n",
    "    for x in range(size):\n",
    "        local_angle_mean = angle_mean[y,x]\n",
    "        local_angle_std = angle_std[y,x]\n",
    "        local_dist_mean = dist_mean[y,x]\n",
    "        local_dist_std = dist_std[y,x]\n",
    "        local_width_mean = width_mean[y,x]\n",
    "        local_width_var = width_std[y,x] * width_std[y,x]\n",
    "        \n",
    "        local_dists = dists[size-1-y:size-1-y+size,size-1-x:size-1-x+size]\n",
    "        local_angles = angles[size-1-y:size-1-y+size,size-1-x:size-1-x+size]\n",
    "        closest_local_angles = local_angles + 2*np.pi*(local_angle_mean > np.pi + local_angles) \n",
    "\n",
    "        prop_that_road = joint_norm_std[y,x] * np.exp(-0.5 * (((closest_local_angles - local_angle_mean) / local_angle_std)**2 + ((local_dists - local_dist_mean) / local_dist_std)**2))\n",
    "\n",
    "        res_total_weight += prop_that_road\n",
    "        res_width_mean += prop_that_road * local_width_mean\n",
    "        res_width_var += prop_that_road * (local_width_var + local_width_mean**2)\n",
    "res_width_mean /= res_total_weight\n",
    "res_width_var /= res_total_weight\n",
    "res_width_var -= res_width_mean**2\n",
    "res_width_std = np.sqrt(res_width_var)\n",
    "\n",
    "# TODO: upsample using linear interpolation\n",
    "vote_width_mean = res_width_mean\n",
    "vote_width_std = res_width_std\n",
    "\n",
    "vote_width_mean[res_total_weight < 5.0] = 0\n",
    "vote_width_std[res_total_weight < 5.0] = 1.0\n",
    "# vote_width_mean = nearest_neighbor_interpolation_2D(res_width_mean / resize_factor, (original_size,original_size))\n",
    "# vote_width_std = nearest_neighbor_interpolation_2D(res_width_std / resize_factor, (original_size,original_size))"
   ]
  },
  {
   "cell_type": "code",
   "execution_count": null,
   "metadata": {},
   "outputs": [],
   "source": [
    "plt.imshow(mask)\n",
    "plt.show()\n",
    "plt.imshow(res_width_mean)\n",
    "plt.show()\n",
    "plt.imshow(res_width_std)\n",
    "plt.show()\n",
    "plt.imshow(res_total_weight)\n",
    "plt.show()"
   ]
  },
  {
   "cell_type": "markdown",
   "metadata": {},
   "source": [
    "# Final Mask From Votes"
   ]
  },
  {
   "cell_type": "code",
   "execution_count": null,
   "metadata": {},
   "outputs": [],
   "source": [
    "size = size\n",
    "\n",
    "# since we don't upscale\n",
    "vote_width_mean *= resize_factor\n",
    "vote_width_std *= resize_factor "
   ]
  },
  {
   "cell_type": "code",
   "execution_count": null,
   "metadata": {},
   "outputs": [],
   "source": [
    "indices_ext = np.array([range(-size+1, size)]).T @ np.ones((1,2*size-1))\n",
    "dists = np.sqrt(np.sum(np.stack([indices_ext**2, indices_ext.T**2], axis=-1), axis=-1))\n",
    "\n",
    "res_mask = np.zeros((size,size))\n",
    "\n",
    "inv_with_std_times_sqrt2 = 1.0 / (vote_width_std * np.sqrt(2))\n",
    "for y in tqdm(range(size)):\n",
    "    for x in range(size):\n",
    "        if vote_width_mean[y,x] < 0.1: \n",
    "            continue\n",
    "        \n",
    "        norm = stats.norm(vote_width_mean[y,x], vote_width_std[y,x])\n",
    "        local_dists = dists[size-1-y:size-1-y+size,size-1-x:size-1-x+size]\n",
    "        \n",
    "        prop_that_road = 1.0 - norm.cdf(local_dists)\n",
    "        #prop_that_road = 1.0 - (1 + erf((local_dists - vote_width_mean[y,x]) * inv_with_std_times_sqrt2)) * 0.5\n",
    "\n",
    "        res_mask = np.maximum(res_mask, prop_that_road)\n",
    "        #res_mask += prop_that_road"
   ]
  },
  {
   "cell_type": "code",
   "execution_count": null,
   "metadata": {},
   "outputs": [],
   "source": [
    "#res_mask[res_mask < 0.25] = 0\n",
    "plt.imshow(nearest_neighbor_interpolation_2D(res_mask, (original_size,original_size)))\n"
   ]
  },
  {
   "cell_type": "code",
   "execution_count": null,
   "metadata": {},
   "outputs": [],
   "source": [
    "plt.imshow(mask)"
   ]
  },
  {
   "cell_type": "code",
   "execution_count": null,
   "metadata": {},
   "outputs": [],
   "source": [
    "plt.hist(res_mask.flatten())"
   ]
  },
  {
   "cell_type": "code",
   "execution_count": null,
   "metadata": {},
   "outputs": [],
   "source": [
    "import torch"
   ]
  },
  {
   "cell_type": "code",
   "execution_count": null,
   "metadata": {},
   "outputs": [],
   "source": [
    "device = 'cuda' if torch.cuda.is_available() else 'cpu'\n",
    "\n",
    "angle_mean = torch.rand((224, 224)).to(device)\n",
    "angle_std = torch.rand((224, 224)).to(device)\n",
    "\n",
    "dist_mean = torch.rand((224, 224)).to(device)\n",
    "dist_std = torch.rand((224, 224)).to(device)\n",
    "\n",
    "width_mean = torch.rand((224, 224)).to(device)\n",
    "width_std = torch.rand((224, 224)).to(device)\n",
    "\n",
    "res_total_weight = torch.zeros((224,224)).to(device)\n",
    "res_width_mean = torch.zeros((224,224)).to(device)\n",
    "res_width_std = torch.ones((224,224)).to(device)\n",
    "\n",
    "sqrt2pi = np.sqrt(2*np.pi)\n",
    "\n",
    "indices_ext = np.array([range(-223, 224)]).T @ np.ones((1,223+224))\n",
    "dists = np.sqrt(np.sum(np.stack([indices_ext**2, indices_ext.T**2], axis=-1), axis=-1))\n",
    "\n",
    "indices_2d = np.stack([indices_ext, indices_ext.T], axis=-1)\n",
    "angles = np.arctan2(indices_2d[:,:,0], indices_2d[:,:,1])\n",
    "\n",
    "dists = torch.Tensor(dists).to(device)\n",
    "angles = torch.Tensor(angles).to(device)\n",
    "\n",
    "joint_mean = (dist_std * angle_mean + angle_std * dist_mean) / (dist_std + angle_std)\n",
    "joint_std = 1.0 / (1.0 / dist_std + 1.0 / angle_std)\n",
    "\n",
    "prop_that_road = np.zeros((224,224,224,224))\n",
    "for y in tqdm(range(224)):\n",
    "    for x in range(224):\n",
    "        local_dists = dists[223-y:223-y+224,223-x:223-x+224]\n",
    "        local_angles = angles[223-y:223-y+224,223-x:223-x+224]\n",
    "        closest_local_angles = local_angles + 2*np.pi*(local_angle > np.pi + local_angles) \n",
    "\n",
    "        prop_that_road[y,x,:,:] = joint_mean[y,x] + joint_std[y,x] * np.exp(-(local_dists * closest_local_angles)**2 * 0.5) / sqrt2pi\n",
    "\n",
    "res_total_weight = torch.sum(prop_that_road, dim=(0,1))\n",
    "res_width_mean += torch.sum(prop_that_road * width_mean.unsqueeze(0).unsqueeze(1), dim=(0,1))\n",
    "res_width_std += torch.sum(prop_that_road * width_std.unsqueeze(0).unsqueeze(1), dim=(0,1))"
   ]
  },
  {
   "cell_type": "code",
   "execution_count": null,
   "metadata": {},
   "outputs": [],
   "source": []
  },
  {
   "cell_type": "markdown",
   "metadata": {},
   "source": [
    "# Original Implementations"
   ]
  },
  {
   "cell_type": "code",
   "execution_count": null,
   "metadata": {},
   "outputs": [],
   "source": [
    "# Correct original implementation\n",
    "size = 32\n",
    "angle_mean = np.random.rand(size, size)\n",
    "angle_std = np.random.rand(size, size)\n",
    "\n",
    "dist_mean = np.random.rand(size, size)\n",
    "dist_std = np.random.rand(size, size)\n",
    "\n",
    "width_mean = np.random.rand(size, size)\n",
    "width_std = np.random.rand(size, size)\n",
    "\n",
    "res_total_weight = np.zeros((size,size))\n",
    "res_width_mean = np.zeros((size,size))\n",
    "res_width_std = np.ones((size,size))\n",
    "for y in tqdm(range(size)):\n",
    "    for x in range(size):\n",
    "        prop_that_road = np.zeros((size,size))\n",
    "        local_angle = angle_mean[y,x]\n",
    "        norm_angle = stats.norm(local_angle, angle_std[y,x])\n",
    "        norm_dist = stats.norm(dist_mean[y,x], dist_std[y,x])\n",
    "        \n",
    "        for ty in range(size):\n",
    "            for tx in range(size):\n",
    "                dist,angle = cart2pol(tx - x, ty - y, local_angle)\n",
    "                prop_that_road = norm_angle.pdf(angle) * norm_dist.pdf(dist)\n",
    "    \n",
    "                res_total_weight[ty,tx] += prop_that_road\n",
    "                res_width_mean[ty,tx] += prop_that_road * width_mean[y,x]\n",
    "                res_width_std[ty,tx] += prop_that_road * width_std[y,x] # TODO: use correct formula!\n",
    "\n",
    "vote_width_mean = (res_width_mean / res_total_weight)\n",
    "vote_width_std = (res_width_std / res_total_weight)"
   ]
  }
 ],
 "metadata": {
  "kernelspec": {
   "display_name": "Python 3 (ipykernel)",
   "language": "python",
   "name": "python3"
  },
  "language_info": {
   "codemirror_mode": {
    "name": "ipython",
    "version": 3
   },
   "file_extension": ".py",
   "mimetype": "text/x-python",
   "name": "python",
   "nbconvert_exporter": "python",
   "pygments_lexer": "ipython3",
   "version": "3.10.9"
  }
 },
 "nbformat": 4,
 "nbformat_minor": 4
}
