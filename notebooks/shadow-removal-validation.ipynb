{
 "cells": [
  {
   "cell_type": "code",
   "execution_count": null,
   "metadata": {
    "ExecuteTime": {
     "end_time": "2023-05-03T20:03:25.703805Z",
     "start_time": "2023-05-03T20:03:25.693042Z"
    },
    "collapsed": false,
    "jupyter": {
     "outputs_hidden": false
    }
   },
   "outputs": [],
   "source": [
    "from torch.utils.data import DataLoader\n",
    "\n",
    "from src.ShadowFormer.model import ShadowFormer\n",
    "from src.dataset import SatelliteDataset, SatelliteDatasetRun\n",
    "from src.models.unet.backbones import Resnet18Backbone\n",
    "from src.models.unet.unet import UNet\n",
    "from src.models.unet.blocks import UpBlock\n",
    "import torch\n",
    "import sys\n",
    "import os\n",
    "from importlib import reload\n",
    "from PIL import Image\n",
    "from torchvision import transforms\n",
    "import numpy as np\n",
    "from tqdm import tqdm\n",
    "\n",
    "from src.wrapper import PLWrapper"
   ]
  },
  {
   "cell_type": "code",
   "execution_count": null,
   "metadata": {
    "ExecuteTime": {
     "end_time": "2023-05-03T19:20:05.129172Z",
     "start_time": "2023-05-03T19:20:05.126424Z"
    },
    "collapsed": false,
    "jupyter": {
     "outputs_hidden": false
    }
   },
   "outputs": [],
   "source": [
    "out_path = \"../../out\"\n",
    "shadow_model_path = os.path.join(out_path, \"shadow_model_2023-05-03_19-59-44\")\n",
    "normal_model_path = os.path.join(out_path, \"test_run_2023-05-03_17-51-14\")"
   ]
  },
  {
   "cell_type": "code",
   "execution_count": null,
   "metadata": {
    "ExecuteTime": {
     "end_time": "2023-05-03T19:20:05.139347Z",
     "start_time": "2023-05-03T19:20:05.131675Z"
    },
    "collapsed": false,
    "jupyter": {
     "outputs_hidden": false
    }
   },
   "outputs": [],
   "source": [
    "sys.path.insert(0, shadow_model_path)\n",
    "import config\n",
    "SHADOW_TRAIN_CONFIG = config.TRAIN_CONFIG\n",
    "sys.path.insert(0, normal_model_path)\n",
    "NORMAL_TRAIN_CONFIG = reload(config).TRAIN_CONFIG\n",
    "print(NORMAL_TRAIN_CONFIG[\"experiment_id\"], SHADOW_TRAIN_CONFIG[\"experiment_id\"])"
   ]
  },
  {
   "cell_type": "code",
   "execution_count": null,
   "metadata": {
    "ExecuteTime": {
     "end_time": "2023-05-03T19:20:06.119413Z",
     "start_time": "2023-05-03T19:20:05.144967Z"
    },
    "collapsed": false,
    "jupyter": {
     "outputs_hidden": false
    }
   },
   "outputs": [],
   "source": [
    "def load_model(ckpt_path: str, config: dict):\n",
    "    # trained shadow removal model\n",
    "    model_cls = NORMAL_TRAIN_CONFIG[\"model_config\"][\"model_cls\"]\n",
    "    backbone_cls = NORMAL_TRAIN_CONFIG[\"model_config\"][\"backbone_cls\"]\n",
    "    up_block_ctor = NORMAL_TRAIN_CONFIG[\"model_config\"][\"model_kwargs\"][\"up_block_ctor\"]\n",
    "\n",
    "    model = model_cls(backbone=backbone_cls(), up_block_ctor=up_block_ctor)\n",
    "\n",
    "    # doesn't work because hyperparameters are not saved\n",
    "    \"\"\"\n",
    "    pl_wrapper = PLWrapper(model=model, **NORMAL_TRAIN_CONFIG['pl_wrapper_kwargs'])\n",
    "    pl_wrapper.load_from_checkpoint(\n",
    "        ckpt_path,\n",
    "        map_location=torch.device(\"cpu\")\n",
    "    )\n",
    "    \"\"\"\n",
    "    # normal loading\n",
    "    state_dict = torch.load(ckpt_path, map_location=torch.device(\"cpu\"))\n",
    "\n",
    "    # remove model prefix\n",
    "    model.load_state_dict({k[6:]:v for k,v in state_dict[\"state_dict\"].items()})\n",
    "    model.eval()\n",
    "    return model\n",
    "\n",
    "normal_model = load_model(\n",
    "    ckpt_path=os.path.join(normal_model_path, \"model-epoch=94-val_acc=0.93.ckpt\"),\n",
    "    config=NORMAL_TRAIN_CONFIG\n",
    ")\n",
    "shadow_model = load_model(\n",
    "    ckpt_path=os.path.join(shadow_model_path, \"model-epoch=98-val_acc=0.89.ckpt\"),\n",
    "    config=SHADOW_TRAIN_CONFIG\n",
    ")"
   ]
  },
  {
   "cell_type": "code",
   "execution_count": null,
   "metadata": {
    "ExecuteTime": {
     "end_time": "2023-05-03T19:39:25.776748Z",
     "start_time": "2023-05-03T19:39:25.251085Z"
    },
    "collapsed": false,
    "jupyter": {
     "outputs_hidden": false
    }
   },
   "outputs": [],
   "source": [
    "# load image former\n",
    "shadow_former = ShadowFormer(img_size=400, embed_dim=32,win_size=10,token_projection=\"linear\",token_mlp=\"leff\")\n",
    "state_dict = torch.load(\"../../pretrained/ISTD_model_latest.pth\", map_location=torch.device(\"cpu\"))\n",
    "shadow_former.load_state_dict({k[7:]:v for k,v in state_dict[\"state_dict\"].items()})\n",
    "print()"
   ]
  },
  {
   "cell_type": "markdown",
   "metadata": {},
   "source": [
    "# Remove shadows from training data"
   ]
  },
  {
   "cell_type": "code",
   "execution_count": null,
   "metadata": {
    "ExecuteTime": {
     "end_time": "2023-05-03T20:28:36.909774Z",
     "start_time": "2023-05-03T20:28:36.904727Z"
    },
    "collapsed": false,
    "jupyter": {
     "outputs_hidden": false
    }
   },
   "outputs": [],
   "source": [
    "base_path = \"../../data\"\n",
    "data_dir = \"test\"\n",
    "output_dir = \"test_no_shadow\"\n",
    "rm_shadow_dir = data_dir\n",
    "data = SatelliteDatasetRun(data_dir=os.path.join(base_path, data_dir), hist_equalization=False)\n",
    "dataloader = DataLoader(data, batch_size=1, shuffle=True) # batch_size must be 1!"
   ]
  },
  {
   "cell_type": "code",
   "execution_count": null,
   "metadata": {
    "ExecuteTime": {
     "end_time": "2023-05-03T20:49:44.807929Z",
     "start_time": "2023-05-03T20:28:39.328540Z"
    },
    "collapsed": false,
    "jupyter": {
     "outputs_hidden": false
    }
   },
   "outputs": [],
   "source": [
    "to_tensor = transforms.ToTensor()\n",
    "to_pil = transforms.ToPILImage()\n",
    "upscale = transforms.Resize(400)\n",
    "\n",
    "for img_path, original_size, img in tqdm(dataloader):\n",
    "    o_img = Image.open(img_path[0]).convert(\"RGB\")\n",
    "    # display(o_img)\n",
    "    shadow_mask = shadow_model(img)  # 1x1x224x224\n",
    "    shadow_mask = (shadow_mask.detach() > 0.5).type(torch.FloatTensor)\n",
    "    # display(to_pil(shadow_mask.squeeze()))\n",
    "\n",
    "    # ShadowFormer was trained on 400x400 images\n",
    "    upscaled_image = upscale(to_tensor(o_img)).unsqueeze(dim=0)\n",
    "    sf_image = shadow_former(upscaled_image, upscale(shadow_mask))\n",
    "    new_image = to_pil(sf_image.squeeze())\n",
    "\n",
    "    _, filename = os.path.split(img_path[0])\n",
    "    new_image_dir = os.path.join(base_path, output_dir)\n",
    "    os.makedirs(new_image_dir, exist_ok=True)\n",
    "    new_image_path = os.path.join(new_image_dir, filename)\n",
    "    # print(f\"Saving to {new_image_path}...\")\n",
    "    new_image.save(new_image_path, \"PNG\")"
   ]
  },
  {
   "cell_type": "code",
   "execution_count": null,
   "metadata": {
    "collapsed": false,
    "jupyter": {
     "outputs_hidden": false
    }
   },
   "outputs": [],
   "source": []
  }
 ],
 "metadata": {
  "kernelspec": {
   "display_name": "Python 3 (ipykernel)",
   "language": "python",
   "name": "python3"
  },
  "language_info": {
   "codemirror_mode": {
    "name": "ipython",
    "version": 3
   },
   "file_extension": ".py",
   "mimetype": "text/x-python",
   "name": "python",
   "nbconvert_exporter": "python",
   "pygments_lexer": "ipython3",
   "version": "3.10.9"
  }
 },
 "nbformat": 4,
 "nbformat_minor": 4
}
