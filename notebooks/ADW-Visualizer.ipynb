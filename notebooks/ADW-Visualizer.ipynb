{
 "cells": [
  {
   "cell_type": "code",
   "execution_count": null,
   "metadata": {},
   "outputs": [],
   "source": [
    "%cd ../.."
   ]
  },
  {
   "cell_type": "markdown",
   "metadata": {},
   "source": [
    "# Visualizer"
   ]
  },
  {
   "cell_type": "code",
   "execution_count": null,
   "metadata": {},
   "outputs": [],
   "source": [
    "import matplotlib.pyplot as plt\n",
    "from ipywidgets import interact\n",
    "\n",
    "import torchvision\n",
    "from torchvision.io import ImageReadMode\n",
    "import numpy as np\n",
    "import os\n",
    "\n",
    "from scipy import stats"
   ]
  },
  {
   "cell_type": "markdown",
   "metadata": {},
   "source": [
    "## The Influence of a Pixel t on All Other Pixels"
   ]
  },
  {
   "cell_type": "code",
   "execution_count": null,
   "metadata": {},
   "outputs": [],
   "source": [
    "# folders should contain mean/ and std/ subfolders\n",
    "angle_folder = \"out/madw_angle/run_test500\"\n",
    "distance_folder = \"out/madw_dist/run_test500_last\"\n",
    "width_folder = \"out/madw_width/run_test500_last\"\n",
    "\n",
    "# folder should contain images/ and groundtruth/ subfolders\n",
    "dataset_folder = \"data/test500\"\n",
    "\n",
    "name = 'los_angeles_satimage_89.png' # the image that should be visualized\n",
    "ty, tx = 20,75 # pixel t on the downscaled image"
   ]
  },
  {
   "cell_type": "markdown",
   "metadata": {},
   "source": [
    "#### This must be the same as in ADW-Transform!"
   ]
  },
  {
   "cell_type": "code",
   "execution_count": null,
   "metadata": {},
   "outputs": [],
   "source": [
    "PADDING = 25\n",
    "SMOOTH_ANGLE = 2.0 # None to disable\n",
    "SMOOTH_WIDTH = 1.0 # None to disable\n",
    "SMOOTH_MASK_ITERATIONS = 3\n",
    "\n",
    "# the image size that the model will be working on (matters for distance prediction!)\n",
    "TARGET_SIZE = (224,224) \n",
    "# leave at (400,400) if doing cropping\n",
    "# use (224,224) if rescaling\n",
    "\n",
    "NORM_ANGLE_MIN, NORM_ANGLE_DELTA = -3.15, 6.3\n",
    "NORM_DISTANCE_MIN, NORM_DISTANCE_DELTA = 0, np.sqrt(2*(TARGET_SIZE[0] + 2*PADDING)**2) + 1\n",
    "NORM_WIDTH_MIN, NORM_WIDTH_DELTA = 0, TARGET_SIZE[0] / 4 # this might cause some overflows if chosen too small\n",
    "RESIZE_FACTOR = 0.25"
   ]
  },
  {
   "cell_type": "code",
   "execution_count": null,
   "metadata": {},
   "outputs": [],
   "source": [
    "def norm_to_true(angle_mean, angle_std, distance_mean, distance_std, width_mean, width_std, \n",
    "                 angle_min, angle_delta, distance_min, distance_delta, width_min, width_delta):\n",
    "    angle_mean = angle_mean * angle_delta + angle_min\n",
    "    angle_std = angle_std * angle_delta\n",
    "\n",
    "    distance_mean = distance_mean * distance_delta + distance_min\n",
    "    distance_std = distance_std * distance_delta\n",
    "\n",
    "    width_mean = width_mean * width_delta + width_min\n",
    "    width_std = width_std * width_delta    \n",
    "\n",
    "    return angle_mean, angle_std, distance_mean, distance_std, width_mean, width_std"
   ]
  },
  {
   "cell_type": "code",
   "execution_count": null,
   "metadata": {},
   "outputs": [],
   "source": [
    "def load_sample(name):\n",
    "    angle_mean = (torchvision.io.read_image(os.path.join(angle_folder, 'mean', name), mode=ImageReadMode.GRAY).squeeze()/255.0).numpy()\n",
    "    angle_std = (torchvision.io.read_image(os.path.join(angle_folder, 'std', name), mode=ImageReadMode.GRAY).squeeze()/255.0).numpy()\n",
    "    distance_mean = (torchvision.io.read_image(os.path.join(distance_folder, 'mean', name), mode=ImageReadMode.GRAY).squeeze()/255.0).numpy()\n",
    "    distance_std = (torchvision.io.read_image(os.path.join(distance_folder, 'std', name), mode=ImageReadMode.GRAY).squeeze()/255.0).numpy()\n",
    "    width_mean = (torchvision.io.read_image(os.path.join(width_folder, 'mean', name), mode=ImageReadMode.GRAY).squeeze()/255.0).numpy()\n",
    "    width_std = (torchvision.io.read_image(os.path.join(width_folder, 'std', name), mode=ImageReadMode.GRAY).squeeze()/255.0).numpy()\n",
    "\n",
    "    return norm_to_true(angle_mean, angle_std, distance_mean, distance_std, width_mean, width_std, \n",
    "                        NORM_ANGLE_MIN, NORM_ANGLE_DELTA, NORM_DISTANCE_MIN, NORM_DISTANCE_DELTA, NORM_WIDTH_MIN, NORM_WIDTH_DELTA)"
   ]
  },
  {
   "cell_type": "code",
   "execution_count": null,
   "metadata": {},
   "outputs": [],
   "source": [
    "def nearest_neighbor_interpolation_2D(arr, target_size):\n",
    "    current_size = arr.shape\n",
    "    row_ratio, col_ratio = np.array(target_size)/np.array(current_size)\n",
    "\n",
    "    row_idx = (np.ceil(range(1, 1 + int(current_size[0]*row_ratio))/row_ratio) - 1).astype(int)\n",
    "    col_idx = (np.ceil(range(1, 1 + int(current_size[1]*col_ratio))/col_ratio) - 1).astype(int)\n",
    "\n",
    "    return arr[:,row_idx][col_idx,:]"
   ]
  },
  {
   "cell_type": "code",
   "execution_count": null,
   "metadata": {},
   "outputs": [],
   "source": [
    "def nearest_neighbor_interpolation_2D_RGB(arr, target_size):\n",
    "    return np.stack([nearest_neighbor_interpolation_2D(arr[0,:,:], target_size), nearest_neighbor_interpolation_2D(arr[1,:,:], target_size), nearest_neighbor_interpolation_2D(arr[2,:,:], target_size)])"
   ]
  },
  {
   "cell_type": "code",
   "execution_count": null,
   "metadata": {},
   "outputs": [],
   "source": [
    "angle_mean, angle_std, dist_mean, dist_std, width_mean, width_std = load_sample(name)\n",
    "\n",
    "satellite = (torchvision.io.read_image(os.path.join(dataset_folder, 'images', name), mode=ImageReadMode.RGB).squeeze()).numpy()\n",
    "groundtruth = (torchvision.io.read_image(os.path.join(dataset_folder, 'groundtruth', name), mode=ImageReadMode.GRAY).squeeze() / 255.0).numpy()"
   ]
  },
  {
   "cell_type": "code",
   "execution_count": null,
   "metadata": {},
   "outputs": [],
   "source": [
    "original_size = angle_mean.shape[-1]\n",
    "# subsample\n",
    "size = round(RESIZE_FACTOR * original_size)\n",
    "\n",
    "res_total_weight = np.zeros((size,size))\n",
    "res_width_mean = np.zeros((size,size))\n",
    "res_width_std = np.zeros((size,size))\n",
    "\n",
    "angle_mean = nearest_neighbor_interpolation_2D(angle_mean, (size,size)) # invariant to scaling\n",
    "angle_std = nearest_neighbor_interpolation_2D(angle_std, (size,size))\n",
    "dist_mean = nearest_neighbor_interpolation_2D(dist_mean, (size,size)) * RESIZE_FACTOR # k * X ~ N(k * m, (k*s)^2)\n",
    "dist_std = nearest_neighbor_interpolation_2D(dist_std, (size,size)) * RESIZE_FACTOR\n",
    "width_mean = nearest_neighbor_interpolation_2D(width_mean, (size,size)) # keep original scale\n",
    "width_std = nearest_neighbor_interpolation_2D(width_std, (size,size))\n",
    "\n",
    "satellite = nearest_neighbor_interpolation_2D_RGB(satellite, (size, size))\n",
    "groundtruth = nearest_neighbor_interpolation_2D(groundtruth, (size, size))\n",
    "\n",
    "indices_ext = np.array([range(-size+1, size)]).T @ np.ones((1,2*size-1))\n",
    "dists = np.sqrt(np.sum(np.stack([indices_ext**2, indices_ext.T**2], axis=-1), axis=-1))\n",
    "\n",
    "indices_2d = np.stack([indices_ext, indices_ext.T], axis=-1)\n",
    "angles = np.arctan2(indices_2d[:,:,0], indices_2d[:,:,1])\n",
    "\n",
    "res_total_weight = np.zeros((size,size))\n",
    "res_width_mean = np.zeros((size,size))\n",
    "res_width_var = np.ones((size,size))\n",
    "\n",
    "joint_norm_std = 1 / (2 * np.pi * angle_std * dist_std)"
   ]
  },
  {
   "cell_type": "code",
   "execution_count": null,
   "metadata": {},
   "outputs": [],
   "source": [
    "tmp = np.copy(satellite.transpose(1,2,0)) / 255.0\n",
    "width = 1\n",
    "tmp[ty-width:ty+width,tx-width:tx+width,:] = [254.0,0,0]\n",
    "plt.imshow(tmp)\n"
   ]
  },
  {
   "cell_type": "code",
   "execution_count": null,
   "metadata": {},
   "outputs": [],
   "source": [
    "local_angle_mean = angle_mean[ty,tx]\n",
    "local_angle_std = angle_std[ty,tx]\n",
    "local_dist_mean = dist_mean[ty,tx]\n",
    "local_dist_std = dist_std[ty,tx]\n",
    "local_width_mean = width_mean[ty,tx]\n",
    "local_width_std = width_std[ty,tx]\n",
    "local_width_var = local_width_std**2\n",
    "\n",
    "local_dists = dists[size-1-ty:size-1-ty+size,size-1-tx:size-1-tx+size]\n",
    "local_angles = angles[size-1-ty:size-1-ty+size,size-1-tx:size-1-tx+size]\n",
    "closest_local_angles = local_angles + np.sign(local_angle_mean - local_angles) * (np.abs(local_angle_mean - local_angles) > np.pi) * 2 * np.pi\n",
    "\n",
    "influence = joint_norm_std[ty,tx] * np.exp(-0.5 * (((closest_local_angles - local_angle_mean) / local_angle_std)**2 + ((local_dists - local_dist_mean) / local_dist_std)**2))"
   ]
  },
  {
   "cell_type": "code",
   "execution_count": null,
   "metadata": {},
   "outputs": [],
   "source": [
    "norm = stats.norm(local_width_mean, local_width_std)\n",
    "local_dists = dists[size-1-ty:size-1-ty+size,size-1-tx:size-1-tx+size]\n",
    "\n",
    "prop_that_road = 1.0 - norm.cdf(local_dists)"
   ]
  },
  {
   "cell_type": "code",
   "execution_count": null,
   "metadata": {},
   "outputs": [],
   "source": [
    "fig = plt.figure(frameon=False)\n",
    "plt.imshow(satellite.transpose(1,2,0))\n",
    "plt.imshow(influence, cmap='jet', alpha=0.7)\n",
    "ax = plt.Axes(fig, [0., 0., 1., 1.])\n",
    "ax.set_axis_off()\n",
    "fig.add_axes(ax)\n",
    "plt.show()"
   ]
  },
  {
   "cell_type": "markdown",
   "metadata": {},
   "source": [
    "## Rescale Distance & Width to 0-1"
   ]
  },
  {
   "cell_type": "code",
   "execution_count": null,
   "metadata": {},
   "outputs": [],
   "source": [
    "fig = plt.figure(frameon=False)\n",
    "plt.imshow(dist_mean, cmap='gray')\n",
    "plt.axis('off')\n",
    "plt.show()\n",
    "fig.savefig('dist_mean_rescaled.png', bbox_inches='tight', pad_inches=0)"
   ]
  },
  {
   "cell_type": "code",
   "execution_count": null,
   "metadata": {},
   "outputs": [],
   "source": [
    "fig = plt.figure(frameon=False)\n",
    "plt.imshow(width_mean, cmap='gray')\n",
    "plt.axis('off')\n",
    "plt.show()\n",
    "fig.savefig('width_mean_rescaled.png', bbox_inches='tight', pad_inches=0)"
   ]
  },
  {
   "cell_type": "code",
   "execution_count": null,
   "metadata": {},
   "outputs": [],
   "source": []
  }
 ],
 "metadata": {
  "kernelspec": {
   "display_name": "Python 3 (ipykernel)",
   "language": "python",
   "name": "python3"
  },
  "language_info": {
   "codemirror_mode": {
    "name": "ipython",
    "version": 3
   },
   "file_extension": ".py",
   "mimetype": "text/x-python",
   "name": "python",
   "nbconvert_exporter": "python",
   "pygments_lexer": "ipython3",
   "version": "3.10.9"
  }
 },
 "nbformat": 4,
 "nbformat_minor": 4
}
